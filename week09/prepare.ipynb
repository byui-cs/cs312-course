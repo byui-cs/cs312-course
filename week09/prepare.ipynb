{
 "cells": [
  {
   "cell_type": "markdown",
   "metadata": {},
   "source": [
    "![](../images/cs312.png)\n",
    "***\n",
    "\n",
    "# 09 Prepare : Reading \n",
    "\n",
    "## 1 - Objectives\n",
    "\n",
    "- Flood Fill algorithm\n",
    "- Circle function\n",
    "\n",
    "**Note: This notebook is not finished.  It will be completed tonight.  However, the reading links are below and you can start reading them for the assignment**\n"
   ]
  },
  {
   "cell_type": "markdown",
   "metadata": {},
   "source": [
    "## 2 - Topic\n",
    "\n",
    "TBA"
   ]
  },
  {
   "cell_type": "markdown",
   "metadata": {},
   "source": [
    "## 3 - Reading\n",
    "\n",
    "**Reading Resources**\n",
    "\n",
    "- [Flood Fill](https://en.wikipedia.org/wiki/Flood_fill)\n",
    "- [Circle Draw](https://en.wikipedia.org/wiki/Midpoint_circle_algorithm)"
   ]
  }
 ],
 "metadata": {
  "kernelspec": {
   "display_name": "Python 3",
   "language": "python",
   "name": "python3"
  },
  "language_info": {
   "codemirror_mode": {
    "name": "ipython",
    "version": 3
   },
   "file_extension": ".py",
   "mimetype": "text/x-python",
   "name": "python",
   "nbconvert_exporter": "python",
   "pygments_lexer": "ipython3",
   "version": "3.6.4"
  }
 },
 "nbformat": 4,
 "nbformat_minor": 2
}
