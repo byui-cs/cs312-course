{
 "cells": [
  {
   "cell_type": "markdown",
   "metadata": {},
   "source": [
    "![](../images/cs312.png)\n",
    "***\n",
    "\n",
    "# 11 Prepare : Reading \n",
    "\n",
    "## 1 - Objectives\n",
    "\n",
    "- Review Matrix multiplication and dot product\n",
    "- Learn about translate matrix\n",
    "- Learn about scale matrix\n",
    "- Learn about rotation matrix\n",
    "- Learn order of matrix multiplication\n"
   ]
  },
  {
   "cell_type": "markdown",
   "metadata": {},
   "source": [
    "## 2 - Topic\n",
    "\n",
    "Computer graphics uses matrices to allow points and edges to be scaled, rotationed and transformed.\n",
    "\n",
    "> Transformation means changing some graphics into something else by applying rules. We can have various types of transformations such as translation, scaling up or down, rotation, shearing, etc. When a transformation takes place on a 2D plane, it is called 2D transformation.\n",
    "> \n",
    "> Transformations play an important role in computer graphics to reposition the graphics on the screen and change their size or orientation.\n",
    "\n",
    "**Matrix Multiplication**\n",
    "\n",
    "Matrices can be combined (ie., rotation, scale and translation).  **Order** is very important.  The following link outlines what the order is and why it is important.\n",
    "\n",
    "- https://msdn.microsoft.com/en-us/library/windows/desktop/ms533864(v=vs.85).aspx\n"
   ]
  },
  {
   "cell_type": "markdown",
   "metadata": {},
   "source": [
    "## 3 - Reading\n",
    "\n",
    "**Showing how to transform a point.  Watch the other videos at Khan Academy.**\n",
    "\n",
    "https://www.khanacademy.org/math/precalculus/precalc-matrices/matrices-as-transformations/v/transforming-position-vector\n",
    "\n",
    "\n",
    "**affine transformations**\n",
    "\n",
    "https://www.mathworks.com/discovery/affine-transformation.html\n",
    "\n",
    "\n",
    "**dot product**\n",
    "\n",
    "https://www.mathsisfun.com/algebra/matrix-multiplying.html\n",
    "\n"
   ]
  }
 ],
 "metadata": {
  "kernelspec": {
   "display_name": "Python 3",
   "language": "python",
   "name": "python3"
  },
  "language_info": {
   "codemirror_mode": {
    "name": "ipython",
    "version": 3
   },
   "file_extension": ".py",
   "mimetype": "text/x-python",
   "name": "python",
   "nbconvert_exporter": "python",
   "pygments_lexer": "ipython3",
   "version": "3.6.4"
  }
 },
 "nbformat": 4,
 "nbformat_minor": 2
}
