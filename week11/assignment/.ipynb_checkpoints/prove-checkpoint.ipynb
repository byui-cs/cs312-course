{
 "cells": [
  {
   "cell_type": "markdown",
   "metadata": {},
   "source": [
    "![](../../images/cs312.png)\n",
    "***\n",
    "\n",
    "# 11 Prove - Assignment"
   ]
  },
  {
   "cell_type": "markdown",
   "metadata": {},
   "source": [
    "***\n",
    "## 1 - Objectives\n",
    "\n",
    "- Add matrices to Crush to allow for scale, rotation and translation"
   ]
  },
  {
   "cell_type": "markdown",
   "metadata": {},
   "source": [
    "***\n",
    "## 2 - Introduction\n",
    "\n",
    "Computer graphics uses matrices to help with transforming points, lines and triangles.  Please review the reading materal for this week."
   ]
  },
  {
   "cell_type": "markdown",
   "metadata": {},
   "source": [
    "***\n",
    "## 3 - Assignment\n",
    "\n",
    "- Download the python code files to you your computer.\n",
    "- Look for \"TODO Project 11\" in the crush file and add your code in each place."
   ]
  },
  {
   "cell_type": "markdown",
   "metadata": {},
   "source": [
    "### 3.1 - Final drawing results\n",
    "\n",
    "![](results.png)"
   ]
  },
  {
   "cell_type": "markdown",
   "metadata": {},
   "source": [
    "### 3.2 - Flags\n",
    "\n",
    "- Get the flags to display correctly by adding your code to Crush."
   ]
  },
  {
   "cell_type": "markdown",
   "metadata": {},
   "source": [
    "### 3.3 - Stars\n",
    "\n",
    "- Why are the stars not in a single column? \n",
    "- Look at the code in project11.py and how I draw the stars in main().\n",
    "- Add you answer below.\n"
   ]
  },
  {
   "cell_type": "markdown",
   "metadata": {},
   "source": [
    "#### 3.3.1 - Your answer\n",
    "\n",
    "ADD YOU ANSWER HERE!!!!!!!!!!!!!!!!"
   ]
  },
  {
   "cell_type": "markdown",
   "metadata": {},
   "source": [
    "## 4 - Rubric\n",
    "\n",
    "It is your responsibility to show that your assignment **clearly satisfies** the rubric.  Use as many tests to show that your assignment deserves the grade it should get.\n",
    "\n",
    "| Task | Points |\n",
    "|------|-----|\n",
    "| Implement matrices in Crush correctly | 50 |\n",
    "| Draw flags | 40 |\n",
    "| Answer to why the stars are not in a column | 10 |\n",
    "|------|-----|\n",
    "| Total | 100  |\n",
    "\n"
   ]
  },
  {
   "cell_type": "markdown",
   "metadata": {},
   "source": [
    "## 5 - Submission\n",
    "\n",
    "1. Download the python files to your computer.\n",
    "1. When finished, ZIP all of your files and upload the ZIP file to I-Learn.\n"
   ]
  }
 ],
 "metadata": {
  "kernelspec": {
   "display_name": "Python 3",
   "language": "python",
   "name": "python3"
  },
  "language_info": {
   "codemirror_mode": {
    "name": "ipython",
    "version": 3
   },
   "file_extension": ".py",
   "mimetype": "text/x-python",
   "name": "python",
   "nbconvert_exporter": "python",
   "pygments_lexer": "ipython3",
   "version": "3.6.4"
  }
 },
 "nbformat": 4,
 "nbformat_minor": 2
}
