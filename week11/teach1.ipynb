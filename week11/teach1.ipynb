{
 "cells": [
  {
   "cell_type": "markdown",
   "metadata": {},
   "source": [
    "![](../images/cs312.png)\n",
    "***\n",
    "# 11 Teach : Team Activity A"
   ]
  },
  {
   "cell_type": "markdown",
   "metadata": {},
   "source": [
    "***\n",
    "## 1 - Objectives\n",
    "\n",
    "- Learn how to use matrices"
   ]
  },
  {
   "cell_type": "markdown",
   "metadata": {},
   "source": [
    "***\n",
    "## 2 - Overview\n",
    "\n",
    "Please review the reading links for this week.\n",
    "\n",
    "- https://www.mathsisfun.com/algebra/matrix-multiplying.html\n",
    "- https://en.wikipedia.org/wiki/Matrix_multiplication\n",
    "- https://msdn.microsoft.com/en-us/library/windows/desktop/ms533864(v=vs.85).aspx"
   ]
  },
  {
   "cell_type": "markdown",
   "metadata": {},
   "source": [
    "### 3 - Activity\n",
    "\n",
    "This folder contains the following files:\n",
    "\n",
    "**main.py**\n",
    "\n",
    "This file contains functions that you will need to get working and have them produce the current output.\n",
    "\n",
    "- TODO - Look in this file for instructions\n",
    "\n",
    "**common.py**\n",
    "\n",
    "General functions\n",
    "\n",
    "\n",
    "**point.py**\n",
    "\n",
    "This class impliments a Point object.\n",
    "\n",
    "- TODO - impliment the method **\\_\\_mul\\_\\_**\n",
    "\n",
    "\n",
    "**matrix.py**\n",
    "\n",
    "This class impliments a 2D matrix and has methods to manage matrices.\n",
    "\n",
    "- TODO - impliment the method **\\_\\_add\\_\\_**\n",
    "- TODO - impliment the method **\\_\\_sub\\_\\_**\n",
    "- TODO - impliment the method **\\_\\_mul\\_\\_**\n",
    "\n"
   ]
  },
  {
   "cell_type": "markdown",
   "metadata": {},
   "source": [
    "## 4 - Submission\n",
    "There are nothing to submit"
   ]
  }
 ],
 "metadata": {
  "kernelspec": {
   "display_name": "Python 3",
   "language": "python",
   "name": "python3"
  },
  "language_info": {
   "codemirror_mode": {
    "name": "ipython",
    "version": 3
   },
   "file_extension": ".py",
   "mimetype": "text/x-python",
   "name": "python",
   "nbconvert_exporter": "python",
   "pygments_lexer": "ipython3",
   "version": "3.6.4"
  }
 },
 "nbformat": 4,
 "nbformat_minor": 2
}
