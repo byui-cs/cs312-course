{
 "cells": [
  {
   "cell_type": "markdown",
   "metadata": {},
   "source": [
    "![](../images/cs312.png)\n",
    "***\n",
    "\n",
    "# 06 Prove - Assignment\n",
    "\n",
    "## 1 - Objectives\n",
    "\n",
    "This assignments is on feature dectection between images.  You will be matching some images that are given to you.  The second part of the assignment, is for you to match your own images.\n",
    "\n",
    "All assignments in this course has always been individual based.  Sharing code is an automatic zero for the assignment.\n"
   ]
  },
  {
   "cell_type": "markdown",
   "metadata": {},
   "source": [
    "***\n",
    "## 2 - Introduction\n",
    "\n",
    "Feature matching is part of OpenCV.  Please read the following for this assignment:\n",
    "\n",
    "- [Feature Detection and Description](https://docs.opencv.org/3.0-beta/doc/py_tutorials/py_feature2d/py_table_of_contents_feature2d/py_table_of_contents_feature2d.html)\n",
    "- [ORB matching](https://docs.opencv.org/3.0-beta/doc/py_tutorials/py_feature2d/py_orb/py_orb.html#orb)\n",
    "- [Different feature matching methods](https://docs.opencv.org/3.0-beta/doc/py_tutorials/py_feature2d/py_matcher/py_matcher.html#matcher)"
   ]
  },
  {
   "cell_type": "markdown",
   "metadata": {},
   "source": [
    "***\n",
    "## 3 - Assignment\n"
   ]
  },
  {
   "cell_type": "markdown",
   "metadata": {},
   "source": [
    "### 3.0 - Setup"
   ]
  },
  {
   "cell_type": "code",
   "execution_count": null,
   "metadata": {},
   "outputs": [],
   "source": [
    "# These are the libraries used in this notebook - you must run this cell\n",
    "%matplotlib inline\n",
    "import numpy as np\n",
    "import matplotlib.pyplot as plt\n",
    "import matplotlib as mpl\n",
    "import cv2\n",
    "mpl.rcParams['figure.figsize'] = (10,10)\n",
    "\n",
    "# --------------------------------------------------------------------------\n",
    "# This function is handle to display grayscale images in the notebook\n",
    "def _displayGray(img, title):\n",
    "    plt.imshow(img, cmap = 'gray')\n",
    "    plt.title(title), plt.xticks([]), plt.yticks([])\n",
    "    plt.show()\n",
    "\n",
    "# --------------------------------------------------------------------------\n",
    "def _displayColor(img, title):\n",
    "    imgNew = cv2.cvtColor(img,cv2.COLOR_BGR2RGB)\n",
    "    plt.imshow(imgNew)\n",
    "    plt.title(title), plt.xticks([]), plt.yticks([])\n",
    "    plt.show()\n",
    "   \n",
    "# --------------------------------------------------------------------------\n",
    "def drawMatches(image_1, image_1_keypoints, image_2, image_2_keypoints, matches):\n",
    "    \"\"\" Draws the matches between the image_1 and image_2.\n",
    "\n",
    "    Note: Do not edit this function, it is provided for you for visualization\n",
    "    purposes.\n",
    "\n",
    "    Args:\n",
    "    image_1 (numpy.ndarray): The first image (can be color or grayscale).\n",
    "    image_1_keypoints (list): The image_1 keypoints, the elements are of type\n",
    "                              cv2.KeyPoint.\n",
    "    image_2 (numpy.ndarray): The image to search in (can be color or grayscale)\n",
    "    image_2_keypoints (list): The image_2 keypoints, the elements are of type\n",
    "                              cv2.KeyPoint.\n",
    "\n",
    "    Returns:\n",
    "    output (numpy.ndarray): An output image that draws lines from the input\n",
    "                            image to the output image based on where the\n",
    "                            matching features are.\n",
    "    \"\"\"\n",
    "    # Compute number of channels.\n",
    "    num_channels = 1\n",
    "    if len(image_1.shape) == 3:\n",
    "        num_channels = image_1.shape[2]\n",
    "    # Separation between images.\n",
    "    margin = 10\n",
    "    # Create an array that will fit both images (with a margin of 10 to\n",
    "    # separate the two images)\n",
    "    joined_image = np.zeros((max(image_1.shape[0], image_2.shape[0]),\n",
    "                            image_1.shape[1] + image_2.shape[1] + margin,\n",
    "                            3))\n",
    "    if num_channels == 1:\n",
    "        for channel_idx in range(3):\n",
    "            joined_image[:image_1.shape[0],\n",
    "                         :image_1.shape[1],\n",
    "                         channel_idx] = image_1\n",
    "            joined_image[:image_2.shape[0],\n",
    "                         image_1.shape[1] + margin:,\n",
    "                         channel_idx] = image_2\n",
    "    else:\n",
    "        joined_image[:image_1.shape[0], :image_1.shape[1]] = image_1\n",
    "        joined_image[:image_2.shape[0], image_1.shape[1] + margin:] = image_2\n",
    "\n",
    "    for match in matches:\n",
    "        image_1_point = (int(image_1_keypoints[match.queryIdx].pt[0]),\n",
    "                         int(image_1_keypoints[match.queryIdx].pt[1]))\n",
    "        image_2_point = (int(image_2_keypoints[match.trainIdx].pt[0] +\n",
    "                             image_1.shape[1] + margin),\n",
    "                         int(image_2_keypoints[match.trainIdx].pt[1]))\n",
    "\n",
    "        rgb = (int(np.random.rand() * 255), int(np.random.rand() * 255), int(np.random.rand() * 255))\n",
    "        cv2.circle(joined_image, image_1_point, 5, rgb, thickness = 5)\n",
    "        cv2.circle(joined_image, image_2_point, 5, rgb, thickness = 5)\n",
    "        cv2.line(joined_image, image_1_point, image_2_point, rgb, thickness = 3)\n",
    "\n",
    "    return joined_image\n",
    "    "
   ]
  },
  {
   "cell_type": "markdown",
   "metadata": {},
   "source": [
    "***\n",
    "### 3.1 - findMatchesBetweenImages()\n",
    "\n",
    "The first part of this assignment is to complete the following function.  Here is a description of the function:\n",
    "\n",
    "> **findMatchesBetweenImages()**\n",
    "\n",
    "> Return the top 10 list of matches between two input images.\n",
    "\n",
    "> This function detects and computes ORB features from the input images, and returns the best matches using the normalized Hamming Distance.\n",
    "\n",
    "> Follow these steps:\n",
    "> 1. Compute ORB keypoints and descriptors for both images\n",
    "> 2. Create a Brute Force Matcher, using the hamming distance (and set crossCheck to true).\n",
    "> 3. Compute the matches between both images.\n",
    "> 4. Sort the matches based on distance so you get the best matches.\n",
    "> 5. Return the image_1 keypoints, image_2 keypoints, and the top 10 matches in a list.\n",
    "\n",
    "> Note: We encourage you use OpenCV functionality to complete this function.\n",
    "\n",
    "> **Parameters**\n",
    "> \n",
    "> image_1 : numpy.ndarray\n",
    ">     The first image. (grayscale).\n",
    "\n",
    "> image_2 : numpy.ndarray\n",
    ">     The second image. (grayscale).\n",
    "\n",
    "> **Returns**\n",
    "> \n",
    "> image_1_kp : list\n",
    ">     The image_1 keypoints, the elements are of type cv2.KeyPoint.\n",
    "> \n",
    "> image_2_kp : list\n",
    ">     The image_2 keypoints, the elements are of type cv2.KeyPoint.\n",
    "> \n",
    "> matches : list\n",
    ">     A list of matches, length 10. Each item in the list is of type cv2.DMatch.\n"
   ]
  },
  {
   "cell_type": "code",
   "execution_count": null,
   "metadata": {},
   "outputs": [],
   "source": [
    "def findMatchesBetweenImages(image_1, image_2, nf=500, sf=1.2, wta=2, st=cv2.ORB_HARRIS_SCORE, ps=31):\n",
    "    matches = None       # type: list of cv2.DMath\n",
    "    image_1_kp = None    # type: list of cv2.KeyPoint items\n",
    "    image_1_desc = None  # type: numpy.ndarray of numpy.uint8 values.\n",
    "    image_2_kp = None    # type: list of cv2.KeyPoint items.\n",
    "    image_2_desc = None  # type: numpy.ndarray of numpy.uint8 values.\n",
    "\n",
    "    orb = cv2.ORB_create(nfeatures=nf, scaleFactor=sf, WTA_K=wta, scoreType=st, patchSize=ps)\n",
    "\n",
    "    # START ******************************************************\n",
    "\n",
    "    # WRITE YOUR CODE HERE. Do NOT share code with other students!\n",
    "    # Sharing code is an automatic zero for the assignment.\n",
    "    # Read the required reading.\n",
    "\n",
    "\n",
    "    # END ********************************************************\n",
    "    \n",
    "    # I coded the return statement for you. You are free to modify it -- just\n",
    "    # make sure the tests pass.\n",
    "    return image_1_kp, image_2_kp, matches[:10]"
   ]
  },
  {
   "cell_type": "markdown",
   "metadata": {},
   "source": [
    "***\n",
    "### 3.2 - Testing findMatchesBetweenImages()\n",
    "\n",
    "Impliment the following code to test the function findMatchesBetweenImages().\n",
    "\n",
    "1. Load image 'template.jpg'.\n",
    "1. Load image 'sample.jpg'.\n",
    "1. Call findMatchesBetweenImages() with those two images.\n",
    "1. Call drawMatches() with those images and the results from findMatchesBetweenImages().  Note, that you must use color images with this function.\n",
    "1. Save results from drawMatches() to a file.\n",
    "1. Load the file your saved in the step above and display it with the function _displayColor().\n",
    "1. Count the number of valid matches in the resulting image.\n",
    "\n",
    "Here is an example of the results between template and sample images.\n",
    "\n",
    "![](samplematch.jpg)"
   ]
  },
  {
   "cell_type": "code",
   "execution_count": null,
   "metadata": {},
   "outputs": [],
   "source": [
    "# TODO - add your code here that impliments section 3.2 above.\n",
    "\n"
   ]
  },
  {
   "cell_type": "markdown",
   "metadata": {},
   "source": [
    "**TODO - Answer this question**\n",
    "\n",
    "How many valid matches were there between template.jpg and sample.jpg?"
   ]
  },
  {
   "cell_type": "markdown",
   "metadata": {},
   "source": [
    "***\n",
    "### 3.3 - Matching Other Images\n",
    "\n",
    "Repeat section 3.2 with matching images (You must display the resulting matching image for any points):\n",
    "\n",
    "- template <-> lighting\n",
    "- template <-> rotation\n",
    "- template <-> scale\n"
   ]
  },
  {
   "cell_type": "code",
   "execution_count": null,
   "metadata": {},
   "outputs": [],
   "source": [
    "# TODO - add your code here for template <-> lighting"
   ]
  },
  {
   "cell_type": "code",
   "execution_count": null,
   "metadata": {},
   "outputs": [],
   "source": [
    "# TODO - add your code here for template <-> rotation"
   ]
  },
  {
   "cell_type": "code",
   "execution_count": null,
   "metadata": {},
   "outputs": [],
   "source": [
    "# TODO - add your code here for template <-> scale"
   ]
  },
  {
   "cell_type": "markdown",
   "metadata": {},
   "source": [
    "**TODO** - fill out this table.  Make sure you \"run\" this cell before submitting your assignment\n",
    "\n",
    "| Question | Answer |\n",
    "|------|-----|\n",
    "| Valid matches between template and lighting | -answer- |\n",
    "| Valid matches between template and rotation | -answer- |\n",
    "| Valid matches between template and scale | -answer- |\n",
    "|------|-----|\n",
    "| Total | 100  |\n"
   ]
  },
  {
   "cell_type": "markdown",
   "metadata": {},
   "source": [
    "***\n",
    "### 3.4 - Using your own images\n",
    "\n",
    "- For this part of the assignment, take your own images.\n",
    "- Take a picture of a \"template\" image. (ie., a doll, playing card, unique object, etc...)\n",
    "- Take three other images where you are changing the following in each image\n",
    "    - **Lighting**: this image must be lighter/draker than the template image.\n",
    "    - **Rotation**: Change the rotation of the object.\n",
    "    - **Scale**: Change the scale (size) of the object.\n",
    "- I need to see all images used and all resulting matching images for any points.\n",
    "- All three types of images must be in your assignment for full points for this section."
   ]
  },
  {
   "cell_type": "code",
   "execution_count": null,
   "metadata": {},
   "outputs": [],
   "source": [
    "# TODO - Add code for template <-> Lighting matching and show images"
   ]
  },
  {
   "cell_type": "markdown",
   "metadata": {},
   "source": [
    "TODO - fill out this table.  Make sure you \"run\" this cell before submitting your assignment\n",
    "\n",
    "| Question | Answer |\n",
    "|------|-----|\n",
    "| Description of the scene | -answer- |\n",
    "| What did you change from the template | -answer- |\n",
    "| Number of valid matching points out of 10 | -answer- |\n",
    "| If not 10 matching points, why? | -answer- |\n",
    "|------|-----|\n",
    "| Total | 100  |\n"
   ]
  },
  {
   "cell_type": "code",
   "execution_count": null,
   "metadata": {},
   "outputs": [],
   "source": [
    "# TODO - Add code for template <-> Rotation matching and show images"
   ]
  },
  {
   "cell_type": "markdown",
   "metadata": {},
   "source": [
    "TODO - fill out this table.  Make sure you \"run\" this cell before submitting your assignment\n",
    "\n",
    "| Question | Answer |\n",
    "|------|-----|\n",
    "| Description of the scene | -answer- |\n",
    "| What did you change from the template | -answer- |\n",
    "| Number of valid matching points out of 10 | -answer- |\n",
    "| If not 10 matching points, why? | -answer- |\n",
    "|------|-----|\n",
    "| Total | 100  |\n"
   ]
  },
  {
   "cell_type": "code",
   "execution_count": null,
   "metadata": {},
   "outputs": [],
   "source": [
    "# TODO - Add code for template <-> Scale matching and show images"
   ]
  },
  {
   "cell_type": "markdown",
   "metadata": {},
   "source": [
    "TODO - fill out this table.  Make sure you \"run\" this cell before submitting your assignment\n",
    "\n",
    "| Question | Answer |\n",
    "|------|-----|\n",
    "| Description of the scene | -answer- |\n",
    "| What did you change from the template | -answer- |\n",
    "| Number of valid matching points out of 10 | -answer- |\n",
    "| If not 10 matching points, why? | -answer- |\n",
    "|------|-----|\n",
    "| Total | 100  |\n"
   ]
  },
  {
   "cell_type": "markdown",
   "metadata": {},
   "source": [
    "***\n",
    "## 4 - Rubric\n",
    "\n",
    "It is your responsibility to show that your assignment clearly satisfies the rubric.  Use as many tests to show that your assignment deserves the grade it should get.\n",
    "\n",
    "| Task | Points |\n",
    "|------|-----|\n",
    "| 3.1 - findMatchesBetweenImages() | 30 |\n",
    "| 3.2 - Testing findMatchesBetweenImages() | 10 |\n",
    "| 3.3 - matching other images and results | 10 |\n",
    "| 3.4 - Using your own images | 50 |\n",
    "|------|-----|\n",
    "| Total | 100  |\n",
    "\n"
   ]
  },
  {
   "cell_type": "markdown",
   "metadata": {},
   "source": [
    "***\n",
    "## 5 - Submission\n",
    "\n",
    "Do all of you coding in this Jupyter Notebook:\n",
    "1. **Read** the instructions and ask general questions in class.\n",
    "1. Download this notebook to your computer.\n",
    "1. Run Jupyter Notebook to allow you edit this notebook.\n",
    "1. Write and compile your code in the notebook.\n",
    "1. When finished, run all cells, export to MarkDown and upload it to I-Learn.\n"
   ]
  }
 ],
 "metadata": {
  "kernelspec": {
   "display_name": "Python 3",
   "language": "python",
   "name": "python3"
  },
  "language_info": {
   "codemirror_mode": {
    "name": "ipython",
    "version": 3
   },
   "file_extension": ".py",
   "mimetype": "text/x-python",
   "name": "python",
   "nbconvert_exporter": "python",
   "pygments_lexer": "ipython3",
   "version": "3.6.4"
  }
 },
 "nbformat": 4,
 "nbformat_minor": 2
}
