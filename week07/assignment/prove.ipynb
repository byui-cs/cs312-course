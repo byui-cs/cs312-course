{
 "cells": [
  {
   "cell_type": "markdown",
   "metadata": {},
   "source": [
    "![](../images/cs312.png)\n",
    "***\n",
    "\n",
    "# 07 Prove - Assignment\n",
    "\n",
    "## 1 - Objectives\n",
    "\n",
    "This assignment will ask you to create your own panorama image."
   ]
  },
  {
   "cell_type": "markdown",
   "metadata": {},
   "source": [
    "***\n",
    "## 2 - Introduction\n",
    "\n",
    "Many cameras can create panoramas for you.  You will be using software to create a panorama."
   ]
  },
  {
   "cell_type": "markdown",
   "metadata": {},
   "source": [
    "***\n",
    "## 3 - Assignment\n",
    "\n",
    "- A panorama is taken from a single point location, while rotating. The images should be nearly seamless when they are stitched together. Panoramas should have many images with heavy overlap to produce a smooth, high-quality output. Good panoramas usually take at least 8-12 images, and many more for wide field of view (FOV).\n",
    "\n",
    "\n",
    "- There are many types of panoramas, select the one you like and tell me why.\n",
    "\n",
    "\n",
    "- IT IS CRITICAL that you take individual pictures to create this panorama. Don't use a software that just gives you the final panorama (like the ones on your cell phone).\n",
    "\n",
    "\n",
    "- Be mindful of the size of the pictures that you will be taking.  The software outlined below should be able to handle large images.  If they don't, you will need to reduce them.\n",
    "\n",
    "\n",
    "- Choose a software package from the sites listed below, or find another site. A search with \"make a panorama\" will list options and details.\n",
    "\n",
    "\n",
    "- Quality matters, make sure you have enough good pictures for your program to make a well-matched panorama.  I want you to take pictures outside.\n",
    "\n"
   ]
  },
  {
   "cell_type": "markdown",
   "metadata": {},
   "source": [
    "### 3.1 - Software\n",
    "\n",
    "Here is some software to create panoramas.  If you find other software that can create panoramas, you are free to use it.\n",
    "\n",
    "#### Windows\n",
    "\n",
    "Microsoft Image Composite Editor (ICE)\n",
    "https://www.microsoft.com/en-us/research/product/computational-photography-applications/image-composite-editor/\n",
    "\n",
    "#### Mac / Linux\n",
    "\n",
    "http://hugin.sourceforge.net/ Hugin is free software for Mac/PC/Linux, a bit hard to use, but\n",
    "good.\n",
    "\n"
   ]
  },
  {
   "cell_type": "markdown",
   "metadata": {},
   "source": [
    "### 3.2 - Taken Images\n",
    "\n",
    "Display your images that you took here.  In MarkDown, you can display images using\n",
    "\n",
    "```\n",
    "![](local file name)\n",
    "```\n",
    "\n",
    "TODO"
   ]
  },
  {
   "cell_type": "markdown",
   "metadata": {},
   "source": [
    "### 3.3 - Resulting Panorama\n",
    "\n",
    "TODO\n",
    "\n",
    "Question: Why did you select that type of panorama?\n",
    "\n",
    "Question: What did you take pictures of and why?"
   ]
  },
  {
   "cell_type": "markdown",
   "metadata": {},
   "source": [
    "***\n",
    "## 4 - Rubric\n",
    "\n",
    "It is your responsibility to show that your assignment clearly satisfies the rubric.  Use as many tests to show that your assignment deserves the grade it should get.\n",
    "\n",
    "| Task | Points |\n",
    "|------|-----|\n",
    "| Images Taken (outside, enough of them)| 30 |\n",
    "| Final Panorama Image | 70 |\n",
    "|------|-----|\n",
    "| Total | 100  |\n",
    "\n"
   ]
  },
  {
   "cell_type": "markdown",
   "metadata": {},
   "source": [
    "***\n",
    "## 5 - Submission\n",
    "\n",
    "Do all of you coding in this Jupyter Notebook:\n",
    "1. Download this notebook to your computer.\n",
    "1. Run Jupyter Notebook to allow you edit this notebook.\n",
    "1. Write and compile your code in the notebook.\n",
    "1. When finished, run all cells, export to **MarkDown** and upload it to I-Learn.\n"
   ]
  }
 ],
 "metadata": {
  "kernelspec": {
   "display_name": "Python 3",
   "language": "python",
   "name": "python3"
  },
  "language_info": {
   "codemirror_mode": {
    "name": "ipython",
    "version": 3
   },
   "file_extension": ".py",
   "mimetype": "text/x-python",
   "name": "python",
   "nbconvert_exporter": "python",
   "pygments_lexer": "ipython3",
   "version": "3.6.4"
  }
 },
 "nbformat": 4,
 "nbformat_minor": 2
}
