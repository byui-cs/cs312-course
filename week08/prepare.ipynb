{
 "cells": [
  {
   "cell_type": "markdown",
   "metadata": {},
   "source": [
    "![](../images/cs312.png)\n",
    "***\n",
    "\n",
    "# 08 Prepare : Reading "
   ]
  },
  {
   "cell_type": "markdown",
   "metadata": {},
   "source": [
    "***\n",
    "## 1 - Objectives\n",
    "\n",
    "- Introduction to 2D and 3D computer graphics.\n",
    "- Line drawing algorithms.\n",
    "- Crush framework for the rest of the course."
   ]
  },
  {
   "cell_type": "markdown",
   "metadata": {},
   "source": [
    "***\n",
    "## 2 - Topic"
   ]
  },
  {
   "cell_type": "markdown",
   "metadata": {},
   "source": [
    "### 2.1 Computer Graphics Pipeline\n",
    "\n",
    "> A computer graphics pipeline, rendering pipeline or simply graphics pipeline, is a conceptual model in computer graphics that describes what steps a graphics system needs to perform to render a 3D scene to a 2D screen.[1] Plainly speaking, once a 3D model has been created, for instance in a video game or any other 3D computer animation, the graphics pipeline is the process of turning that 3D model into what the computer displays.[2]   Because the steps required for this operation highly depend on the software and hardware used and the desired display characteristics, there is no universal graphics pipeline suitable for all cases. However, graphics APIs such as Direct3D and OpenGL were created to unify similar steps and to control the graphics pipeline of a given hardware accelerator. These APIs primarily abstract the underlying hardware and keep the programmer away from writing code to manipulate the graphics hardware accelerators (AMD/Intel/NVIDIA etc.).\n",
    ">\n",
    "> The model of the graphics pipeline is usually used in real-time rendering. Often, most of the pipeline steps are implemented in hardware, which allows for special optimizations. The term \"pipeline\" is used in a similar sense to the pipeline in processors: the individual steps of the pipeline run parallel but are blocked until the slowest step has been completed.\n",
    "\n",
    "\n",
    "[Link to the article above](https://en.wikipedia.org/wiki/Graphics_pipeline)\n",
    "\n",
    "**OpenGL PipeLine**\n",
    "\n",
    "The \"programmable\" steps in the pipeline below is where shaders can be written.  Shader code is run directly on the hardware of the GPU and is very fast.\n",
    "\n",
    "![](pipe3.png)\n",
    "\n",
    "**Coordinate System**\n",
    "\n",
    "2D coordinate system is the system your learned in high school in geometry class.\n",
    "\n",
    "![](coord2.png)\n",
    "\n",
    "3D coordinate system that is used for computer graphics.  \n",
    "\n",
    "![](coord1.png)\n",
    "\n",
    "3D coordinate system can be left or right handed.  It doesn't matter which one you use, just be consistent.  If you place your thumb on Y-axis, middle figure on X-axis, your index figure needs to point towards positive Z-axis.\n",
    "\n",
    "![](leftright.png)\n",
    "\n",
    "[Link to Coordinate System webpage](https://en.wikipedia.org/wiki/Coordinate_system)\n",
    "\n",
    "\n",
    "**Everything is a triangle**\n",
    "\n",
    "Here is a video on how triangle are used in computer graphics.\n",
    "\n",
    "[Link to video](https://www.youtube.com/watch?v=KdyvizaygyY)\n",
    "\n",
    "https://en.wikipedia.org/wiki/Polygon_triangulation\n",
    "\n"
   ]
  },
  {
   "cell_type": "markdown",
   "metadata": {},
   "source": [
    "### 2.2 Crush framework for this course\n",
    "\n",
    "For the rest of the course, you will be implimenting the [Python Turtle object](https://docs.python.org/3.3/library/turtle.html?highlight=turtle).  Instead of using \"Turtle\", we will be calling it [Crush](https://www.youtube.com/watch?v=J_7c2y04FtA).\n",
    "\n",
    "The code will be divided into 3 parts.\n",
    "1. **graphics.py** - This file allows your program to draw in a graphic window.  It will ONLY be used by the Crush object.\n",
    "1. **crush.py** - You will add code to impliment the Crush class.  It uses graphics.py for drawing.  This class will only be able to draw a dot on the screen.\n",
    "1. **projectNN.py** - Each project will have it's own project file.  Look in the file for instructions.\n"
   ]
  },
  {
   "cell_type": "markdown",
   "metadata": {},
   "source": [
    "### 2.3 Line drawing algorithms\n",
    "\n"
   ]
  },
  {
   "cell_type": "markdown",
   "metadata": {},
   "source": [
    "***\n",
    "## 3 - Reading\n",
    "\n",
    "The first part of implimenting Crush is to impliment line drawing algorithms.  Please read these webapges.\n",
    "\n",
    "**Line Drawing Algorithms**\n",
    "\n",
    "- https://en.wikipedia.org/wiki/Line_drawing_algorithm\n",
    "- https://en.wikipedia.org/wiki/Bresenham%27s_line_algorithm\n",
    "- https://en.wikipedia.org/wiki/Xiaolin_Wu%27s_line_algorithm\n"
   ]
  }
 ],
 "metadata": {
  "kernelspec": {
   "display_name": "Python 3",
   "language": "python",
   "name": "python3"
  },
  "language_info": {
   "codemirror_mode": {
    "name": "ipython",
    "version": 3
   },
   "file_extension": ".py",
   "mimetype": "text/x-python",
   "name": "python",
   "nbconvert_exporter": "python",
   "pygments_lexer": "ipython3",
   "version": "3.6.4"
  }
 },
 "nbformat": 4,
 "nbformat_minor": 2
}
