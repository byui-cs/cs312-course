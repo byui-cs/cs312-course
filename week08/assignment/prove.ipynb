{
 "cells": [
  {
   "cell_type": "markdown",
   "metadata": {},
   "source": [
    "![](../../images/cs312.png)\n",
    "***\n",
    "\n",
    "# 08 Prove - Assignment"
   ]
  },
  {
   "cell_type": "markdown",
   "metadata": {},
   "source": [
    "***\n",
    "## 1 - Objectives\n",
    "\n",
    "- Impliment Crush methods that will allow you to draw on the screen.\n",
    "- Impliment Line Drawing Algorithms"
   ]
  },
  {
   "cell_type": "markdown",
   "metadata": {},
   "source": [
    "***\n",
    "## 2 - Introduction\n",
    "\n",
    "This is the first project using Crush and we will be adding some of the simple draw methods in the Crush class. You will be using the class Vec2D to help with heading and distance calculations."
   ]
  },
  {
   "cell_type": "markdown",
   "metadata": {},
   "source": [
    "***\n",
    "## 3 - Assignment\n"
   ]
  },
  {
   "cell_type": "markdown",
   "metadata": {},
   "source": [
    "### 3.1 - Impliment methods\n",
    "\n",
    "You must impliment the following methods in **crush.py** (Note, remove \"pass\" from the function when you write your code).  Don't modify **graphics.py** in any way.  For these methods, impliment them using degrees for angles.  Remember that the math library in Python requires radians.\n",
    "- forward()\n",
    "- backward()\n",
    "- right()\n",
    "- left()\n",
    "- penup()\n",
    "- pendown()\n",
    "- isDown()\n",
    "- goto()\n",
    "- setheading()\n",
    "- heading()\n",
    "- setx()\n",
    "- sety()\n",
    "- home()\n",
    "- xcor()\n",
    "- ycor()\n",
    "- dot()\n",
    "- position()"
   ]
  },
  {
   "cell_type": "markdown",
   "metadata": {},
   "source": [
    "### 3.2 - Draw the Rexburg Temple\n",
    "\n",
    "Using your methods that you implimented in the Crush class. (You can't use the Python Turtle object). Write code to draw the following as best you can.  You can skip drawing Moroni.\n",
    "\n",
    "![](rexburg.jpg)"
   ]
  },
  {
   "cell_type": "markdown",
   "metadata": {},
   "source": [
    "## 4 - Rubric\n",
    "\n",
    "It is your responsibility to show that your assignment clearly satisfies the rubric.  Use as many tests to show that your assignment deserves the grade it should get.\n",
    "\n",
    "| Task | Points |\n",
    "|------|-----|\n",
    "| Implimenting of Methods | 50 |\n",
    "| Draw the Rexburg Temple | 30 |\n",
    "| Coding style | 10 |\n",
    "|------|-----|\n",
    "| Total | 100  |\n",
    "\n"
   ]
  },
  {
   "cell_type": "markdown",
   "metadata": {},
   "source": [
    "## 5 - Submission\n",
    "\n",
    "You will not be writting code in a Jupyter Notebook.  \n",
    "1. Use any coding editor that you want to use.  (I'll be using PyCharm to test your projects)\n",
    "1. See the ProjectNN.py for any additional instructions for this project.\n",
    "1. When finished, upload your project code to I-Learn as a ZIP file.  You **MUST** include everything that will allow your project to compile. (ie., graphics.py, crush.py, projectNN.py, etc...)\n",
    "1. I **Need** to be able to compile and run your project code.  Test it before submitting your code.\n"
   ]
  }
 ],
 "metadata": {
  "kernelspec": {
   "display_name": "Python 3",
   "language": "python",
   "name": "python3"
  },
  "language_info": {
   "codemirror_mode": {
    "name": "ipython",
    "version": 3
   },
   "file_extension": ".py",
   "mimetype": "text/x-python",
   "name": "python",
   "nbconvert_exporter": "python",
   "pygments_lexer": "ipython3",
   "version": "3.6.4"
  }
 },
 "nbformat": 4,
 "nbformat_minor": 2
}
