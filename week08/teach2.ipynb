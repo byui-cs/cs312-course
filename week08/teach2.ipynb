{
 "cells": [
  {
   "cell_type": "markdown",
   "metadata": {},
   "source": [
    "![](../images/cs312.png)\n",
    "***\n",
    "\n",
    "# 08 Teach : Team Activity B"
   ]
  },
  {
   "cell_type": "markdown",
   "metadata": {},
   "source": [
    "***\n",
    "## 1 - Objectives\n",
    "\n",
    "- Learning about the Python Turtle object."
   ]
  },
  {
   "cell_type": "markdown",
   "metadata": {},
   "source": [
    "***\n",
    "## 2 - Overview\n",
    "\n",
    "Python comes with a [graphical turtle object](https://docs.python.org/3.3/library/turtle.html?highlight=turtle) and you can use to create simple drawings.\n",
    "\n",
    "Here is a sample program to display a star\n",
    "\n",
    "```python\n",
    "from turtle import *\n",
    "\n",
    "color('red', 'yellow')\n",
    "begin_fill()\n",
    "\n",
    "while True:\n",
    "    forward(200)\n",
    "    left(170)\n",
    "    if abs(pos()) < 1:\n",
    "        break\n",
    "\n",
    "end_fill()\n",
    "done()\n",
    "```"
   ]
  },
  {
   "cell_type": "markdown",
   "metadata": {},
   "source": [
    "***\n",
    "## 3 - Instructions\n",
    "\n",
    "You task today is to draw and following shapes using the Python Turtle object.\n",
    "\n",
    "- Draw a triange.\n",
    "- Draw any N sided ploygon.  (3 <= N <= 12)\n",
    "- Draw a 5 pointed star.\n",
    "- Draw a heart shape.\n",
    "- Draw an outline of a house.\n",
    "- Draw a 4 leaf clover.\n",
    "- Draw a Christmas tree with ornaments.\n",
    "- Draw a pizza with stuff on it.\n",
    "- Draw anything you want."
   ]
  },
  {
   "cell_type": "markdown",
   "metadata": {},
   "source": [
    "## 4 - Submission\n",
    "There are nothing to submit"
   ]
  }
 ],
 "metadata": {
  "kernelspec": {
   "display_name": "Python 3",
   "language": "python",
   "name": "python3"
  },
  "language_info": {
   "codemirror_mode": {
    "name": "ipython",
    "version": 3
   },
   "file_extension": ".py",
   "mimetype": "text/x-python",
   "name": "python",
   "nbconvert_exporter": "python",
   "pygments_lexer": "ipython3",
   "version": "3.6.4"
  }
 },
 "nbformat": 4,
 "nbformat_minor": 2
}
