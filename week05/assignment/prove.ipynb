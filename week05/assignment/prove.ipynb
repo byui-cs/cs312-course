{
 "cells": [
  {
   "cell_type": "markdown",
   "metadata": {},
   "source": [
    "![](../../images/cs312.png)\n",
    "***\n",
    "\n",
    "# 05 Prove - Assignment\n",
    "\n",
    "## 1 - Objectives\n",
    "\n",
    "- Writing a blending function.\n",
    "- Use masks to blend images."
   ]
  },
  {
   "cell_type": "markdown",
   "metadata": {},
   "source": [
    "***\n",
    "## 2 - Introduction\n",
    "\n",
    "In this assignment, you will be implimenting a blending function that will take 3 images and combine them together.  The assignment is divided into 2 section.\n",
    "\n",
    "Use imaging software such as gimp, painter, Photoshop will help you manipulate your images in this assignment.  There are a number of free online image editors avilable."
   ]
  },
  {
   "cell_type": "markdown",
   "metadata": {},
   "source": [
    "***\n",
    "## 3 - Assignment\n"
   ]
  },
  {
   "cell_type": "code",
   "execution_count": null,
   "metadata": {},
   "outputs": [],
   "source": [
    "### 3.0 - Setup# These are the libraries used in this notebook - you must run this cell\n",
    "%matplotlib inline\n",
    "import numpy as np\n",
    "import matplotlib.pyplot as plt\n",
    "import cv2\n",
    "\n",
    "# --------------------------------------------------------------------------\n",
    "# This function is handle to display grayscale images in the notebook\n",
    "def _displayGray(img, title):\n",
    "    plt.imshow(img, cmap = 'gray')\n",
    "    plt.title(title), plt.xticks([]), plt.yticks([])\n",
    "    plt.show()\n",
    "\n",
    "def _displayColor(img, title):\n",
    "    imgNew = cv2.cvtColor(img,cv2.COLOR_BGR2RGB)\n",
    "    plt.imshow(imgNew)\n",
    "    plt.title(title), plt.xticks([]), plt.yticks([])\n",
    "    plt.show()"
   ]
  },
  {
   "cell_type": "markdown",
   "metadata": {},
   "source": [
    "### 3.1 - Blend function\n",
    "\n",
    "You must implment the following function blend.  It takes in three images that are the same size (width and height).  The function will combine the black and white images together to form a new image.  The mask image will be used to control hold much of the black or white image is used in the new image.\n",
    "\n",
    "You can't use OpenCV or Numpy functions that do blending.  You can use copy().\n"
   ]
  },
  {
   "cell_type": "code",
   "execution_count": null,
   "metadata": {},
   "outputs": [],
   "source": [
    "def blendColor(black, white, mask):\n",
    "    pass\n",
    "\n",
    "black = cv2.imread('black.jpg')\n",
    "white = cv2.imread('white.jpg')\n",
    "mask = cv2.imread('mask.jpg', 0)   # must be grayscale\n",
    "\n",
    "blendedImage = blendColor(black, white, mask)\n",
    "\n",
    "_displayColor(black, \"Black Image\")\n",
    "_displayColor(white, \"White Image\")\n",
    "_displayColor(mask, \"Mask Image\")\n",
    "_displayColor(blendedImage, \"Blended Image\")\n"
   ]
  },
  {
   "cell_type": "markdown",
   "metadata": {},
   "source": [
    "### 3.2 - Blend grayscale images using a gradient mask\n",
    "\n",
    "In the function blendGrayscale(), you will be blending two grayscale images.  The mask will be a 8 bit grayscale image.  Pixel values in the mask will be used to indicate how much to use from the black or white images in assigning a pixel value in the new image.  Think of the mask pixel value as a percentage.\n",
    "\n",
    "| black % | mask pixel | white % |\n",
    "----------|------------|---------|\n",
    "| 100 %  | 0  | 0 %  |\n",
    "| 0 %  | 255  | 100 %  |\n",
    "| 50 %  | 128  | 50%  |\n"
   ]
  },
  {
   "cell_type": "code",
   "execution_count": null,
   "metadata": {},
   "outputs": [],
   "source": [
    "def blendGrayscale(black, white, mask):\n",
    "    pass\n",
    "\n",
    "black = cv2.imread('black.jpg', 0)\n",
    "white = cv2.imread('white.jpg', 0)\n",
    "mask = cv2.imread('mask2.jpg', 0)     # must be grayscale\n",
    "\n",
    "blendedImage = blendGrayscale(black, white, mask)\n",
    "\n",
    "_displayGray(black, \"Black Image\")\n",
    "_displayGray(white, \"White Image\")\n",
    "_displayGray(mask, \"Mask Image\")\n",
    "_displayGray(blendedImage, \"Blended Image\")\n"
   ]
  },
  {
   "cell_type": "markdown",
   "metadata": {},
   "source": [
    "### 3.3 - Blend your own images\n",
    "\n",
    "Select any two images that you have taken and create a mask image that will be used to blend them together.  Be creative in the images that you choose to use for your blend. I NEED to see original images and results.\n"
   ]
  },
  {
   "cell_type": "code",
   "execution_count": null,
   "metadata": {},
   "outputs": [],
   "source": [
    "# TODO - Show your images and mask and the results\n"
   ]
  },
  {
   "cell_type": "markdown",
   "metadata": {},
   "source": [
    "***\n",
    "## 4 - Rubric\n",
    "\n",
    "It is your responsibility to show that your assignment clearly satisfies the rubric.  Use as many tests to show that your assignment deserves the grade it should get.\n",
    "\n",
    "| Task | Points |\n",
    "|------|-----|\n",
    "| Section 3.1 | 35 |\n",
    "| Section 3.2 | 35 |\n",
    "| Section 3.3 | 20 |\n",
    "| Coding style | 10 |\n",
    "|------|-----|\n",
    "| Total | 100  |\n",
    "\n"
   ]
  },
  {
   "cell_type": "markdown",
   "metadata": {},
   "source": [
    "***\n",
    "## 5 - Submission\n",
    "\n",
    "Do all of you coding in this Jupyter Notebook:\n",
    "1. Download this notebook to your computer.\n",
    "1. Run Jupyter Notebook to allow you edit this notebook.\n",
    "1. Write and compile your code in the notebook.\n",
    "1. When finished, run all cells, export to MarkDown and upload it to I-Learn.\n"
   ]
  }
 ],
 "metadata": {
  "kernelspec": {
   "display_name": "Python 3",
   "language": "python",
   "name": "python3"
  },
  "language_info": {
   "codemirror_mode": {
    "name": "ipython",
    "version": 3
   },
   "file_extension": ".py",
   "mimetype": "text/x-python",
   "name": "python",
   "nbconvert_exporter": "python",
   "pygments_lexer": "ipython3",
   "version": "3.6.4"
  }
 },
 "nbformat": 4,
 "nbformat_minor": 2
}
